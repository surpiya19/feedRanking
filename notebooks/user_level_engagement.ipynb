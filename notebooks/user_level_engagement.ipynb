{
 "cells": [
  {
   "cell_type": "markdown",
   "id": "9e350690",
   "metadata": {},
   "source": [
    "To better understand how our users are interacting with the platform, I first calculated the total number of engaged interactions per user. This gave us a clear metric of user activity, showing how many times each individual actively engaged."
   ]
  },
  {
   "cell_type": "code",
   "execution_count": 12,
   "id": "e4530582",
   "metadata": {},
   "outputs": [],
   "source": [
    "import pandas as pd\n",
    "import matplotlib.pyplot as plt\n",
    "import seaborn as sns\n",
    "import numpy as np"
   ]
  },
  {
   "cell_type": "code",
   "execution_count": 7,
   "id": "34d3f18e",
   "metadata": {},
   "outputs": [
    {
     "name": "stdout",
     "output_type": "stream",
     "text": [
      "   user_id  video_id category  length_sec  watch_time_sec  liked  shared  \\\n",
      "0     7271      1947    dance          41              29      1       0   \n",
      "1      861       621    music          41              23      0       0   \n",
      "2     5391       677   gaming          52              36      1       0   \n",
      "3     5192       370    music          23              17      0       1   \n",
      "4     5735       771  fashion          57              41      1       0   \n",
      "\n",
      "   commented  follow_creator    group                        date  engagement  \\\n",
      "0          0               0  variant  2025-07-26 11:00:15.195387           1   \n",
      "1          1               0  variant  2025-08-02 11:00:15.195387           1   \n",
      "2          0               0  control  2025-08-04 11:00:15.195387           1   \n",
      "3          0               0  variant  2025-08-05 11:00:15.195387           1   \n",
      "4          0               0  variant  2025-07-16 11:00:15.195387           1   \n",
      "\n",
      "   engaged  \n",
      "0        1  \n",
      "1        1  \n",
      "2        1  \n",
      "3        1  \n",
      "4        1  \n"
     ]
    }
   ],
   "source": [
    "# Load and inspect data\n",
    "df = pd.read_csv('../data/tiktok_synthetic_data.csv')\n",
    "print(df.head())"
   ]
  },
  {
   "cell_type": "code",
   "execution_count": 8,
   "id": "87251003",
   "metadata": {},
   "outputs": [],
   "source": [
    "# Calculate engagement count per user\n",
    "user_engagement = df.groupby('user_id')['engaged'].sum().reset_index()\n"
   ]
  },
  {
   "cell_type": "markdown",
   "id": "624b201a",
   "metadata": {},
   "source": [
    "Plotting this data in a histogram reveals an interesting distribution. Most users have relatively low engagement counts, indicating that while many users interact occasionally, high-frequency engagement is less common. This suggests a typical pattern where a core group of users drives most of the activity."
   ]
  },
  {
   "cell_type": "code",
   "execution_count": 9,
   "id": "dbd8b38d",
   "metadata": {},
   "outputs": [
    {
     "data": {
      "image/png": "[encoded data removed]",
      "text/plain": [
       "<Figure size 800x500 with 1 Axes>"
      ]
     },
     "metadata": {},
     "output_type": "display_data"
    }
   ],
   "source": [
    "# Histogram of user engagement counts\n",
    "plt.figure(figsize=(8,5))\n",
    "sns.histplot(user_engagement['engaged'], bins=30, kde=False)\n",
    "plt.title('Distribution of Engagement Counts per User')\n",
    "plt.xlabel('Number of Engaged Interactions')\n",
    "plt.ylabel('Number of Users')\n",
    "plt.show()\n"
   ]
  },
  {
   "cell_type": "markdown",
   "id": "e6c729f9",
   "metadata": {},
   "source": [
    "To make this insight more actionable, I segmented users into four engagement levels: Low, Medium, High, and Very High, based on their total engagement counts. These groups help us identify distinct user behavior clusters—from casual participants to our most active community members."
   ]
  },
  {
   "cell_type": "code",
   "execution_count": 10,
   "id": "540fe96d",
   "metadata": {},
   "outputs": [],
   "source": [
    "# Segment users into groups\n",
    "bins = [0, 1, 5, 20, np.inf]\n",
    "labels = ['Low', 'Medium', 'High', 'Very High']\n",
    "user_engagement['engagement_level'] = pd.cut(user_engagement['engaged'], bins=bins, labels=labels, right=False)"
   ]
  },
  {
   "cell_type": "code",
   "execution_count": 11,
   "id": "7995ef54",
   "metadata": {},
   "outputs": [
    {
     "name": "stdout",
     "output_type": "stream",
     "text": [
      "engagement_level\n",
      "Low           157\n",
      "Medium       6672\n",
      "High         3095\n",
      "Very High       0\n",
      "Name: count, dtype: int64\n"
     ]
    }
   ],
   "source": [
    "# Count users in each segment\n",
    "engagement_levels_count = user_engagement['engagement_level'].value_counts().sort_index()\n",
    "print(engagement_levels_count)"
   ]
  },
  {
   "cell_type": "markdown",
   "id": "689e4621",
   "metadata": {},
   "source": [
    "When counting users in each segment, we see a majority fall into the Low and Medium engagement levels, with fewer users classified as High or Very High. This tells us there’s a significant opportunity to nurture and convert medium-engagement users into higher engagement tiers through targeted campaigns or personalized experiences."
   ]
  },
  {
   "cell_type": "markdown",
   "id": "df7cba92",
   "metadata": {},
   "source": [
    "_____________"
   ]
  },
  {
   "cell_type": "markdown",
   "id": "adeb3e08",
   "metadata": {},
   "source": [
    "When counting users in each segment, we see a majority fall into the Low and Medium engagement levels, with fewer users classified as High or Very High. This tells us there’s a significant opportunity to nurture and convert medium-engagement users into higher engagement tiers through targeted campaigns or personalized experiences."
   ]
  },
  {
   "cell_type": "markdown",
   "id": "f28981cb",
   "metadata": {},
   "source": [
    "Overall, this segmentation allows us to tailor our strategies effectively, focusing on boosting engagement among less active users while continuing to support and reward our most dedicated users."
   ]
  },
  {
   "cell_type": "markdown",
   "id": "f50dbbe2",
   "metadata": {},
   "source": []
  }
 ],
 "metadata": {
  "kernelspec": {
   "display_name": ".venv",
   "language": "python",
   "name": "python3"
  },
  "language_info": {
   "codemirror_mode": {
    "name": "ipython",
    "version": 3
   },
   "file_extension": ".py",
   "mimetype": "text/x-python",
   "name": "python",
   "nbconvert_exporter": "python",
   "pygments_lexer": "ipython3",
   "version": "3.13.5"
  }
 },
 "nbformat": 4,
 "nbformat_minor": 5
}

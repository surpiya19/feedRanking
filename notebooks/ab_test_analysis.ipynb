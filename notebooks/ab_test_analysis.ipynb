{
 "cells": [
  {
   "cell_type": "code",
   "execution_count": 1,
   "id": "961e2bf7",
   "metadata": {},
   "outputs": [],
   "source": [
    "import pandas as pd\n",
    "import numpy as np\n",
    "from scipy.stats import norm\n",
    "import matplotlib.pyplot as plt\n",
    "import seaborn as sns"
   ]
  },
  {
   "cell_type": "code",
   "execution_count": null,
   "id": "50808ff8",
   "metadata": {},
   "outputs": [],
   "source": [
    "# Load and inspect data\n",
    "df = pd.read_csv('../data/tiktok_synthetic_data.csv')\n",
    "print(df.head())"
   ]
  },
  {
   "cell_type": "code",
   "execution_count": 4,
   "id": "387b4809",
   "metadata": {},
   "outputs": [],
   "source": [
    "# Define engagement: any of liked/shared/commented > 0 means engaged\n",
    "df['engagement'] = df[['liked', 'shared', 'commented']].sum(axis=1)\n",
    "df['engaged'] = (df['engagement'] > 0).astype(int)"
   ]
  },
  {
   "cell_type": "code",
   "execution_count": 5,
   "id": "a12c99d6",
   "metadata": {},
   "outputs": [
    {
     "name": "stdout",
     "output_type": "stream",
     "text": [
      "\n",
      "Engagement rates by group:\n",
      "     group   engaged\n",
      "0  control  0.731794\n",
      "1  variant  0.744363\n"
     ]
    }
   ],
   "source": [
    "engagement_rates = df.groupby('group')['engaged'].mean().reset_index()\n",
    "print(\"\\nEngagement rates by group:\")\n",
    "print(engagement_rates)"
   ]
  },
  {
   "cell_type": "code",
   "execution_count": 6,
   "id": "7df06498",
   "metadata": {},
   "outputs": [],
   "source": [
    "# Calculate counts for stats test\n",
    "count_control = df[df['group'] == 'control']['engaged'].sum()\n",
    "n_control = df[df['group'] == 'control'].shape[0]"
   ]
  },
  {
   "cell_type": "code",
   "execution_count": 7,
   "id": "a945227b",
   "metadata": {},
   "outputs": [],
   "source": [
    "count_variant = df[df['group'] == 'variant']['engaged'].sum()\n",
    "n_variant = df[df['group'] == 'variant'].shape[0]"
   ]
  },
  {
   "cell_type": "code",
   "execution_count": 8,
   "id": "4013d53c",
   "metadata": {},
   "outputs": [],
   "source": [
    "# Two-proportion z-test function\n",
    "def two_proportion_z_test(count1, nobs1, count2, nobs2):\n",
    "    p1 = count1 / nobs1\n",
    "    p2 = count2 / nobs2\n",
    "    p_pool = (count1 + count2) / (nobs1 + nobs2)\n",
    "    numerator = p1 - p2\n",
    "    denominator = np.sqrt(p_pool * (1 - p_pool) * (1/nobs1 + 1/nobs2))\n",
    "    z = numerator / denominator\n",
    "    p_value = 2 * (1 - norm.cdf(abs(z)))\n",
    "    return z, p_value"
   ]
  },
  {
   "cell_type": "code",
   "execution_count": 9,
   "id": "2be8913a",
   "metadata": {},
   "outputs": [
    {
     "name": "stdout",
     "output_type": "stream",
     "text": [
      "\n",
      "Z-statistic: -3.1961\n",
      "P-value: 0.0014\n"
     ]
    }
   ],
   "source": [
    "z_stat, p_val = two_proportion_z_test(count_control, n_control, count_variant, n_variant)\n",
    "\n",
    "print(f\"\\nZ-statistic: {z_stat:.4f}\")\n",
    "print(f\"P-value: {p_val:.4f}\")"
   ]
  },
  {
   "cell_type": "code",
   "execution_count": 12,
   "id": "76d2a27d",
   "metadata": {},
   "outputs": [
    {
     "data": {
      "image/png": "[encoded data removed]",
      "text/plain": [
       "<Figure size 640x480 with 1 Axes>"
      ]
     },
     "metadata": {},
     "output_type": "display_data"
    }
   ],
   "source": [
    "sns.barplot(x='group', y='engaged', data=df, errorbar=('ci', 95))\n",
    "plt.title('Engagement Rate by Group with 95% CI')\n",
    "plt.ylabel('Engagement Rate')\n",
    "plt.xlabel('Group')\n",
    "plt.show()"
   ]
  },
  {
   "cell_type": "code",
   "execution_count": 13,
   "id": "49f0cfe1",
   "metadata": {},
   "outputs": [
    {
     "name": "stdout",
     "output_type": "stream",
     "text": [
      "Statistically significant increase in engagement for variant group → Recommend rollout!\n"
     ]
    }
   ],
   "source": [
    "# Business recommendation\n",
    "if p_val < 0.05:\n",
    "    print(\"Statistically significant increase in engagement for variant group → Recommend rollout!\")\n",
    "else:\n",
    "    print(\"No statistically significant difference → Further testing needed.\")"
   ]
  },
  {
   "cell_type": "code",
   "execution_count": null,
   "id": "ea26fa00",
   "metadata": {},
   "outputs": [],
   "source": []
  }
 ],
 "metadata": {
  "kernelspec": {
   "display_name": ".venv",
   "language": "python",
   "name": "python3"
  },
  "language_info": {
   "codemirror_mode": {
    "name": "ipython",
    "version": 3
   },
   "file_extension": ".py",
   "mimetype": "text/x-python",
   "name": "python",
   "nbconvert_exporter": "python",
   "pygments_lexer": "ipython3",
   "version": "3.13.5"
  }
 },
 "nbformat": 4,
 "nbformat_minor": 5
}

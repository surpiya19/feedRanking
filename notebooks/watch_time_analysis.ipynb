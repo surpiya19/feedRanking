{
 "cells": [
  {
   "cell_type": "code",
   "execution_count": 4,
   "id": "bb5084f3",
   "metadata": {},
   "outputs": [],
   "source": [
    "import matplotlib.pyplot as plt\n",
    "import seaborn as sns\n",
    "import pandas as pd"
   ]
  },
  {
   "cell_type": "markdown",
   "id": "7f74e3c2",
   "metadata": {},
   "source": [
    "To understand how our two user groups — the control group and the variant group — differ in terms of watch time, I first calculated summary statistics: the mean, median, and standard deviation of watch time for each group. This provides a snapshot of central tendency and variability, helping us gauge typical user behavior and consistency within each group."
   ]
  },
  {
   "cell_type": "code",
   "execution_count": 5,
   "id": "8863cfb3",
   "metadata": {},
   "outputs": [
    {
     "name": "stdout",
     "output_type": "stream",
     "text": [
      "   user_id  video_id category  length_sec  watch_time_sec  liked  shared  \\\n",
      "0     7271      1947    dance          41              29      1       0   \n",
      "1      861       621    music          41              23      0       0   \n",
      "2     5391       677   gaming          52              36      1       0   \n",
      "3     5192       370    music          23              17      0       1   \n",
      "4     5735       771  fashion          57              41      1       0   \n",
      "\n",
      "   commented  follow_creator    group                        date  \n",
      "0          0               0  variant  2025-07-26 10:33:05.791808  \n",
      "1          1               0  variant  2025-08-02 10:33:05.791808  \n",
      "2          0               0  control  2025-08-04 10:33:05.791808  \n",
      "3          0               0  variant  2025-08-05 10:33:05.791808  \n",
      "4          0               0  variant  2025-07-16 10:33:05.791808  \n"
     ]
    }
   ],
   "source": [
    "# Load and inspect data\n",
    "df = pd.read_csv('../data/tiktok_synthetic_data.csv')\n",
    "print(df.head())"
   ]
  },
  {
   "cell_type": "code",
   "execution_count": 6,
   "id": "965be2b8",
   "metadata": {},
   "outputs": [
    {
     "name": "stdout",
     "output_type": "stream",
     "text": [
      "     group       mean  median        std\n",
      "0  control  22.182580    22.0  11.669138\n",
      "1  variant  22.070569    22.0  11.715023\n"
     ]
    }
   ],
   "source": [
    "# Average watch time by group\n",
    "watch_time_stats = df.groupby('group')['watch_time_sec'].agg(['mean', 'median', 'std']).reset_index()\n",
    "print(watch_time_stats)"
   ]
  },
  {
   "cell_type": "markdown",
   "id": "dd2bacaf",
   "metadata": {},
   "source": [
    "Visualizing these differences using a boxplot reveals how watch time is distributed across groups. We can see the spread and median values clearly, highlighting whether one group tends to watch longer than the other or if there are outliers influencing the average."
   ]
  },
  {
   "cell_type": "code",
   "execution_count": 7,
   "id": "0d5fb3f9",
   "metadata": {},
   "outputs": [
    {
     "data": {
      "image/png": "[encoded data removed]",
      "text/plain": [
       "<Figure size 800x500 with 1 Axes>"
      ]
     },
     "metadata": {},
     "output_type": "display_data"
    }
   ],
   "source": [
    "# Visualization\n",
    "plt.figure(figsize=(8,5))\n",
    "sns.boxplot(x='group', y='watch_time_sec', data=df)\n",
    "plt.title('Watch Time Distribution by Group')\n",
    "plt.ylabel('Watch Time (seconds)')\n",
    "plt.show()"
   ]
  },
  {
   "cell_type": "markdown",
   "id": "e6345b64",
   "metadata": {},
   "source": [
    "To rigorously test whether the observed difference in average watch time is statistically significant, I conducted a t-test comparing the two groups. This test evaluates the likelihood that the difference we see is due to random chance rather than a true effect."
   ]
  },
  {
   "cell_type": "code",
   "execution_count": 8,
   "id": "37a79b18",
   "metadata": {},
   "outputs": [
    {
     "name": "stdout",
     "output_type": "stream",
     "text": [
      "T-test t-statistic: 1.0711, p-value: 0.2841\n"
     ]
    }
   ],
   "source": [
    "# Statistical test: t-test for difference in means\n",
    "from scipy.stats import ttest_ind\n",
    "\n",
    "control_watch = df[df['group']=='control']['watch_time_sec']\n",
    "variant_watch = df[df['group']=='variant']['watch_time_sec']\n",
    "\n",
    "t_stat, p_val = ttest_ind(control_watch, variant_watch, equal_var=False)\n",
    "print(f\"T-test t-statistic: {t_stat:.4f}, p-value: {p_val:.4f}\")"
   ]
  },
  {
   "cell_type": "markdown",
   "id": "526bebce",
   "metadata": {},
   "source": [
    "The results show a t-statistic of {t_stat:.4f} and a p-value of {p_val:.4f}. A low p-value (typically less than 0.05) would indicate strong evidence that the groups differ in their watch times. Depending on the p-value here, we can conclude whether our variant has a meaningful impact on user engagement through watch time."
   ]
  }
 ],
 "metadata": {
  "kernelspec": {
   "display_name": ".venv",
   "language": "python",
   "name": "python3"
  },
  "language_info": {
   "codemirror_mode": {
    "name": "ipython",
    "version": 3
   },
   "file_extension": ".py",
   "mimetype": "text/x-python",
   "name": "python",
   "nbconvert_exporter": "python",
   "pygments_lexer": "ipython3",
   "version": "3.13.5"
  }
 },
 "nbformat": 4,
 "nbformat_minor": 5
}
